{
 "cells": [
  {
   "cell_type": "markdown",
   "id": "af2e815f",
   "metadata": {},
   "source": [
    "#### Task 1 -  To Find the largest number<br></br>You have two integers, either positive or negative, and the challenge is to generate a quantum algorithm that returns which is the larger number. <br></br>Consider an appropriate number of qubits and explain why your proposal is valid for all kinds of numbers in case."
   ]
  },
  {
   "cell_type": "markdown",
   "id": "9cb9a033",
   "metadata": {},
   "source": [
    "### Importing all the necessary libraries required"
   ]
  },
  {
   "cell_type": "code",
   "execution_count": 1,
   "id": "e1d86b47",
   "metadata": {},
   "outputs": [],
   "source": [
    "import numpy as np\n",
    "from qiskit import QuantumCircuit,Aer,execute\n",
    "import math"
   ]
  },
  {
   "cell_type": "markdown",
   "id": "7fda2e49",
   "metadata": {},
   "source": [
    "#### Our first task is to create a quantum bit string comparator, which involves breaking down the problem into two subproblems. \n",
    "\n",
    "#### The first subproblem is to encode the two numbers using the least number of qubits possible through a quantum circuit. The second subproblem is to create another quantum circuit that will check the comparison.\n",
    "\n",
    "#### After studying the research paper at https://ieeexplore.ieee.org/document/4433341 & especially https://arxiv.org/pdf/2005.08950.pdf, I was inspired to adopt their approach. However, I eventually came up with a novel concept that I believed was unique to my work."
   ]
  },
  {
   "cell_type": "markdown",
   "id": "96447e42",
   "metadata": {},
   "source": [
    "#### Creating Utility Functions"
   ]
  },
  {
   "cell_type": "code",
   "execution_count": 2,
   "id": "cf43d9c2",
   "metadata": {},
   "outputs": [],
   "source": [
    "def binary(a:int,b:int):\n",
    "    \"\"\"\n",
    "    Description -> The given code defines a function named \"binary\" which takes two integer arguments, \"a\" and \"b\".\n",
    "                   The purpose of the function is to convert the given integers into binary form by creating a \n",
    "                   string representation of their binary bits. The function uses a while loop to iterate over the\n",
    "                   binary bits of the given integers. \n",
    "                   \n",
    "                   It starts by initializing two empty strings, \"x\" and \"y\", to which the binary bits \n",
    "                   are appended in reverse order using the modulo operator and integer division. \n",
    "                   \n",
    "                   The resulting strings are then reversed to obtain the correct binary representation.\n",
    "                   After obtaining the binary representation of the integers, the function compares the length \n",
    "                   of the two binary strings and pads the shorter string with leading zeros to make them equal \n",
    "                   in length. Finally, the function returns the two equal-length binary strings as output.\n",
    "    \"\"\"\n",
    "    x=str()\n",
    "    while(a!=0):\n",
    "        x+=str(a%2)\n",
    "        a=int(a/2) \n",
    "    x=x[::-1]\n",
    "    y=str()\n",
    "    while(b!=0):\n",
    "        y+=str(b%2)\n",
    "        b=int(b/2) \n",
    "    y=y[::-1]    \n",
    "    if(len(x)<len(y)):\n",
    "        x=x.zfill(len(y))\n",
    "    elif(len(x)>len(y)):            \n",
    "        y=y.zfill(len(x))\n",
    "    return x,y"
   ]
  },
  {
   "cell_type": "code",
   "execution_count": 3,
   "id": "a131a849",
   "metadata": {},
   "outputs": [
    {
     "data": {
      "text/plain": [
       "('00101', '10001')"
      ]
     },
     "execution_count": 3,
     "metadata": {},
     "output_type": "execute_result"
    }
   ],
   "source": [
    "binary(5,17)"
   ]
  },
  {
   "cell_type": "code",
   "execution_count": 4,
   "id": "a4d12cce",
   "metadata": {},
   "outputs": [],
   "source": [
    "def createqc(x): \n",
    "    \"\"\"\n",
    "    Description ->  The given code defines a function named \"createqc\" which takes an integer argument \"x\". \n",
    "                    The purpose of this function is to create a quantum circuit that performs a probabilistic \n",
    "                    operation based on the input \"x\".\n",
    "\n",
    "                    The function starts by creating a QuantumCircuit object with one qubit and one classical bit. \n",
    "                    It applies a Hadamard gate on the qubit to create a superposition of states, i.e., a uniform \n",
    "                    probability distribution of the qubit being in either state 0 or 1.\n",
    "\n",
    "                    The function then checks the input \"x\" to determine the probability distriution of the qubit \n",
    "                    collapsing to either state 0 or 1. If \"x\" is 0, the qubit has a 70% chance of collapsing to \n",
    "                    state 0 and a 30% chance of collapsing to state 1. To achieve this, the function applies a \n",
    "                    rotation around the y-axis by an angle of negative pi/8 radians (or -22.5 degrees) to the \n",
    "                    qubit using the RY gate. If \"x\" is not 0, the qubit has a 70% chance of collapsing to state \n",
    "                    1 and a 30% chance of collapsing to state 0. To achieve this, the function applies a rotation \n",
    "                    around the y-axis by an angle of pi/8 radians (or 22.5 degrees) to the qubit using the RY gate.\n",
    "                    \n",
    "                    Finally, the function returns the created quantum circuit as output.\n",
    "\n",
    "    \"\"\"\n",
    "    qc = QuantumCircuit(1, 1)\n",
    "    qc.h(0)\n",
    "    if x==0:       \n",
    "        ##75% 0 25% 1\n",
    "        qc.ry(-math.pi/8, 0)    \n",
    "    else:        \n",
    "        ##25% 0 75% 1\n",
    "        qc.ry(math.pi/8, 0)\n",
    "    return qc"
   ]
  },
  {
   "cell_type": "code",
   "execution_count": 5,
   "id": "154618b1",
   "metadata": {},
   "outputs": [
    {
     "name": "stdout",
     "output_type": "stream",
     "text": [
      "{'1': 287, '0': 737}\n"
     ]
    },
    {
     "data": {
      "image/png": "[encoded data removed]",
      "text/plain": [
       "<Figure size 352.675x200.667 with 1 Axes>"
      ]
     },
     "execution_count": 5,
     "metadata": {},
     "output_type": "execute_result"
    }
   ],
   "source": [
    "circuit=createqc(0)\n",
    "circuit.measure(0, 0)\n",
    "simulator = Aer.get_backend('qasm_simulator')\n",
    "job = execute(circuit, simulator, shots=1024)\n",
    "result = job.result()\n",
    "print(result.get_counts(circuit))\n",
    "circuit.draw('mpl')"
   ]
  },
  {
   "cell_type": "code",
   "execution_count": 6,
   "id": "8d41b504",
   "metadata": {},
   "outputs": [
    {
     "name": "stdout",
     "output_type": "stream",
     "text": [
      "{'0': 308, '1': 716}\n"
     ]
    },
    {
     "data": {
      "image/png": "[encoded data removed]",
      "text/plain": [
       "<Figure size 352.675x200.667 with 1 Axes>"
      ]
     },
     "execution_count": 6,
     "metadata": {},
     "output_type": "execute_result"
    }
   ],
   "source": [
    "circuit=createqc(1)\n",
    "circuit.measure(0, 0)\n",
    "simulator = Aer.get_backend('qasm_simulator')\n",
    "job = execute(circuit, simulator, shots=1024)\n",
    "result = job.result()\n",
    "print(result.get_counts(circuit))\n",
    "circuit.draw('mpl')"
   ]
  },
  {
   "cell_type": "code",
   "execution_count": 7,
   "id": "5dd9a2fc",
   "metadata": {},
   "outputs": [],
   "source": [
    "#encoding both the numbers in n quantumcircuits with each quantumcircuit containing just one qubit\n",
    "\n",
    "def encode(a:int,b:int):    \n",
    "    \"\"\"\n",
    "    Description -> The given code defines a function named \"encode\" which takes two integer arguments \"a\" and \"b\".\n",
    "                   The purpose of this function is to encode the two integers in binary form using a quantum\n",
    "                   circuit. The function starts by calling the \"binary\" function with the given integers \"a\" \n",
    "                   and \"b\" to obtain their binary representation as strings. It then initializes an empty list \n",
    "                   \"z\" which will contain the quantum circuits used for encoding.\n",
    "\n",
    "                   The function then iterates over the binary bits of the two numbers using a for loop. For \n",
    "                   each bit, it checks whether the corresponding bits in \"a\" and \"b\" are equal. If the bits \n",
    "                   are not equal, the function creates a quantum circuit using the \"createqc\" function with the \n",
    "                   value of the bit in \"a\" as input. This quantum circuit probabilistically encodes the qubit \n",
    "                   in the state 0 or 1 based on the value of the digit. The resulting quantum circuit is appended \n",
    "                   to the list \"z\". If the bits are equal, the function creates a quantum circuit that prepares\n",
    "                   the qubit in the same state as the corresponding bit in \"a\" using the X gate if the digit is \n",
    "                   1, or doing nothing if the digit is 0.\n",
    "\n",
    "                   Finally, the function returns the list \"z\" containing the quantum circuits used for encoding\n",
    "    \"\"\"\n",
    "    a,b=binary(a,b)    \n",
    "    z=list()\n",
    "    for i in range(len(a)):\n",
    "        if a[i]!=b[i]:                                    \n",
    "            z.append(createqc(int(a[i])))\n",
    "        else:\n",
    "            qc=QuantumCircuit(1,1)\n",
    "            if a[i]=='1':\n",
    "                qc.x(0)                \n",
    "            z.append(qc)\n",
    "    return z"
   ]
  },
  {
   "cell_type": "markdown",
   "id": "62d049ea",
   "metadata": {},
   "source": [
    "#### The main idea of leveraging the \"quantumness\" to our advantage is to utilize superposition for encoding 2n bits of data into n qubits.\n",
    "\n",
    "1) more counts of '0' means that 'a' had the 0 as the bit and 'b' had the 1 at 'i'th index\n",
    "\n",
    "2) a is set to get '0' or '1' whichever has more count\n",
    "\n",
    "3) b is set to get '0' or '1' whichever has less count"
   ]
  },
  {
   "cell_type": "code",
   "execution_count": 8,
   "id": "b47c3bfa",
   "metadata": {},
   "outputs": [],
   "source": [
    "def compare(a:int,b:int)->int:\n",
    "    \"\"\"\n",
    "    Description -> The given code defines a function named \"compare\" which takes two integer arguments\n",
    "                   \"a\" and \"b\" and returns an integer. The purpose of this function is to compare the two integers \n",
    "                   using a quantum circuit and return the larger of the two.\n",
    "\n",
    "                   The function first checks if one of the numbers is positive and the other is negative. If this \n",
    "                   is the case, the function returns the positive number. This is because any positive number \n",
    "                   is greater than any negative number. If both numbers are negative, the function proceeds \n",
    "                   to encode them using the \"encode\" function. It then iterates over the quantum circuits \n",
    "                   in the resulting list and applies a measurement to the qubit in each circuit. It then \n",
    "                   uses the QASM simulator to execute the circuit with 1024 shots and obtains the measurement \n",
    "                   results. If the number of results where the qubit collapsed to state 0 is greater than the \n",
    "                   number of results where it collapsed to state 1 for a circuit, the function returns \"a\". \n",
    "                   Otherwise, it returns \"b\".\n",
    "\n",
    "                   If both numbers are positive or zero, the function follows the same procedure as above to\n",
    "                   encode the numbers and measure the qubits. However, in this case, it returns the larger of \n",
    "                   the two numbers instead of the smaller.\n",
    "\n",
    "                   If the two numbers are equal, the function returns \"a\".\n",
    "    \"\"\"\n",
    "    if a > 0 and b < 0:        \n",
    "        return a\n",
    "    if a < 0 and b > 0:        \n",
    "        return b    \n",
    "    l=encode(a,b)\n",
    "    if a<0 and b<0:        \n",
    "        for circuit in l:  \n",
    "            if circuit.depth()!=2:\n",
    "                continue\n",
    "            circuit.measure(0, 0)\n",
    "            simulator = Aer.get_backend('qasm_simulator')\n",
    "            job = execute(circuit, simulator, shots=1024)\n",
    "            result = job.result().get_counts(circuit)            \n",
    "            if result['0']>result['1']:\n",
    "                return a\n",
    "            else:\n",
    "                return b  \n",
    "    else:\n",
    "        for circuit in l:  \n",
    "            if circuit.depth()!=2:\n",
    "                continue\n",
    "            circuit.measure(0, 0)\n",
    "            simulator = Aer.get_backend('qasm_simulator')\n",
    "            result = execute(circuit, simulator, shots=1024).result().get_counts(circuit)            \n",
    "            if result['0']>result['1']:\n",
    "                return b\n",
    "            else:\n",
    "                return a          \n",
    "    return a##they equal"
   ]
  },
  {
   "cell_type": "markdown",
   "id": "558dd4a9",
   "metadata": {},
   "source": [
    "#### Testing the function"
   ]
  },
  {
   "cell_type": "code",
   "execution_count": 9,
   "id": "e74c9f0e",
   "metadata": {},
   "outputs": [
    {
     "name": "stdout",
     "output_type": "stream",
     "text": [
      "If both numbers are positive\n",
      "200\n"
     ]
    }
   ],
   "source": [
    "print(\"If both numbers are positive\")\n",
    "print(compare(10,200))"
   ]
  },
  {
   "cell_type": "code",
   "execution_count": 10,
   "id": "7c7b1f11",
   "metadata": {},
   "outputs": [
    {
     "name": "stdout",
     "output_type": "stream",
     "text": [
      "If both numbers are negative\n",
      "-10\n"
     ]
    }
   ],
   "source": [
    "print(\"If both numbers are negative\")\n",
    "print(compare(-10,-200))"
   ]
  },
  {
   "cell_type": "code",
   "execution_count": 11,
   "id": "14c3d682",
   "metadata": {},
   "outputs": [
    {
     "name": "stdout",
     "output_type": "stream",
     "text": [
      "If one number is positive and another is negative\n",
      "200\n"
     ]
    }
   ],
   "source": [
    "print(\"If one number is positive and another is negative\")\n",
    "print(compare(-10,200))"
   ]
  },
  {
   "cell_type": "code",
   "execution_count": 12,
   "id": "d0528a85",
   "metadata": {},
   "outputs": [
    {
     "name": "stdout",
     "output_type": "stream",
     "text": [
      "If one number is positive and another is negative(order of inputs does not matter)\n",
      "200\n"
     ]
    }
   ],
   "source": [
    "print(\"If one number is positive and another is negative(order of inputs does not matter)\")\n",
    "print(compare(200,-10))"
   ]
  }
 ],
 "metadata": {
  "kernelspec": {
   "display_name": "Python 3 (ipykernel)",
   "language": "python",
   "name": "python3"
  },
  "language_info": {
   "codemirror_mode": {
    "name": "ipython",
    "version": 3
   },
   "file_extension": ".py",
   "mimetype": "text/x-python",
   "name": "python",
   "nbconvert_exporter": "python",
   "pygments_lexer": "ipython3",
   "version": "3.9.12"
  }
 },
 "nbformat": 4,
 "nbformat_minor": 5
}
